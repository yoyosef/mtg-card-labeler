{
 "cells": [
  {
   "cell_type": "code",
   "execution_count": 1,
   "id": "17ede5c6",
   "metadata": {},
   "outputs": [],
   "source": [
    "import urllib.request\n",
    "import pandas as pd\n",
    "import time\n",
    "\n"
   ]
  },
  {
   "cell_type": "code",
   "execution_count": 2,
   "id": "a1847d55",
   "metadata": {},
   "outputs": [],
   "source": [
    "extracted_data = 'oracle-cards-extracted_columns.json'\n",
    "df = pd.read_json(extracted_data, lines=True)"
   ]
  },
  {
   "cell_type": "code",
   "execution_count": 3,
   "id": "1a6cf7a2",
   "metadata": {
    "scrolled": false
   },
   "outputs": [],
   "source": [
    "# df = df.reset_index()  # make sure indexes pair with number of rows\n",
    "# count = 0\n",
    "# for index, row in df.iterrows():\n",
    "#     count += 1\n",
    "#     if(count < 5311):\n",
    "#         continue\n",
    "#     if(count % 10 == 0):\n",
    "#         time.sleep(1)\n",
    "#     if(row[\"png\"] is None):\n",
    "#         print(row)\n",
    "#         continue\n",
    "#     urllib.request.urlretrieve(row[\"png\"], \"images/\" + row[\"oracle_id\"] + \".png\")"
   ]
  },
  {
   "cell_type": "code",
   "execution_count": 4,
   "id": "574bb93b",
   "metadata": {},
   "outputs": [],
   "source": [
    "df = df.reset_index()  # make sure indexes pair with number of rows\n",
    "count = 0\n",
    "for index, row in df.iterrows():\n",
    "    count += 1\n",
    "    if(count % 100 == 0):\n",
    "        time.sleep(1.5) # Scryfall asked for delays between requests\n",
    "    if(row[\"normal\"] is None):\n",
    "        continue\n",
    "    urllib.request.urlretrieve(row[\"normal\"], \"imagesNormal/\" + row[\"oracle_id\"] + \".jpg\")"
   ]
  },
  {
   "cell_type": "code",
   "execution_count": null,
   "id": "5cea8251",
   "metadata": {},
   "outputs": [],
   "source": []
  }
 ],
 "metadata": {
  "kernelspec": {
   "display_name": "Python 3 (ipykernel)",
   "language": "python",
   "name": "python3"
  },
  "language_info": {
   "codemirror_mode": {
    "name": "ipython",
    "version": 3
   },
   "file_extension": ".py",
   "mimetype": "text/x-python",
   "name": "python",
   "nbconvert_exporter": "python",
   "pygments_lexer": "ipython3",
   "version": "3.11.5"
  }
 },
 "nbformat": 4,
 "nbformat_minor": 5
}
