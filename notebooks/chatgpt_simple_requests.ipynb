{
 "cells": [
  {
   "cell_type": "code",
   "execution_count": 15,
   "id": "87df2eb6-a85a-4f9d-ab36-9ace8b3425fa",
   "metadata": {},
   "outputs": [],
   "source": [
    "from dotenv import load_dotenv\n",
    "import os\n",
    "from openai import OpenAI\n",
    "import base64"
   ]
  },
  {
   "cell_type": "code",
   "execution_count": 16,
   "id": "b5699413-d961-48b8-b38c-b0381e651b75",
   "metadata": {},
   "outputs": [
    {
     "data": {
      "text/plain": [
       "True"
      ]
     },
     "execution_count": 16,
     "metadata": {},
     "output_type": "execute_result"
    }
   ],
   "source": [
    "load_dotenv()  # take environment variables from .env."
   ]
  },
  {
   "cell_type": "code",
   "execution_count": 17,
   "id": "aa299f3e-e37e-4ac8-9055-9bc230b2a170",
   "metadata": {},
   "outputs": [],
   "source": [
    "client = OpenAI()"
   ]
  },
  {
   "cell_type": "code",
   "execution_count": 18,
   "id": "8253d104-73c3-4cc9-a784-4cb045160b9e",
   "metadata": {},
   "outputs": [],
   "source": [
    "# Convert local images to base64 if you need to encode them\n",
    "def image_to_base64(image_path):\n",
    "    with open(image_path, \"rb\") as image_file:\n",
    "        return base64.b64encode(image_file.read()).decode('utf-8')"
   ]
  },
  {
   "cell_type": "code",
   "execution_count": 19,
   "id": "d7755117-104f-4987-96e2-b351f9c260b4",
   "metadata": {},
   "outputs": [],
   "source": [
    "# Assuming the images are local files, encode them to base64\n",
    "image1_path = \"0a1dc797-7531-4494-afe6-add6ac3f74c0.jpg\"\n",
    "image2_path = \"4c045f20-353f-4e65-a770-dd4e2a7668c8.jpg\""
   ]
  },
  {
   "cell_type": "code",
   "execution_count": 24,
   "id": "16d26dc3-294f-44eb-bd15-b30ffb78835d",
   "metadata": {},
   "outputs": [],
   "source": [
    "# Open the images and read them in binary mode\n",
    "with open(image1_path, 'rb') as image1_file, open(image2_path, 'rb') as image2_file:\n",
    "    image1_data = image1_file.read()\n",
    "    image2_data = image2_file.read()"
   ]
  },
  {
   "cell_type": "code",
   "execution_count": 34,
   "id": "963dffd4-91eb-4207-bb74-ee01e56a7d4b",
   "metadata": {},
   "outputs": [],
   "source": [
    "# Construct your message\n",
    "prompt = \"The First Image is a creature. The second image is a card called bar entry with the following text: {} and rules text: {} {} {} {}. Answer this question: Is the image under the bar?\"\n",
    "oracle_text = \"\"\"\n",
    "Choose one —\n",
    "Destroy target creature with power 4 or greater.\n",
    "Destroy target creature with any part of its head higher than the bar. (Align the tops of both cards to check.)\n",
    "\"\"\"\n",
    "rules_text_1 = \" if you had a ruler, the top of both cards would be lined up against it. If any part of that creature's head is higher than the bottom of the bar (that is, if it would hit the bar), the creature is a legal target. \"\n",
    "rules_text_2 = \"If there are multiple creatures in the art, only compare the one that represents the actual creature on the card. For example, Tarmogoyf (MMA) has the tarmogoyf itself and an elk in the art, and you need only consider the tarmogoyf. \"\n",
    "rules_text_3 = \" If there are multiple creatures in the art that each match what the card is representing, then you can target that creature if any of them has any part of its head higher than the bar. For example, Llanowar Elves (M19) has three figures in its art, all of whom are Llanowar elves. The creature can be destroyed if any of those elves has a part of their head higher \"\n",
    "rules_text_4 = \"  Only a creature's head counts. Other body parts (such as tails) being above the bar doesn't make a creature a legal target. If a creature is wearing a hat on its head, treat the hat as part of its head. \"\n",
    "formatted_prompt = prompt.format(oracle_text, rules_text_1, rules_text_2, rules_text_3, rules_text_4)"
   ]
  },
  {
   "cell_type": "code",
   "execution_count": 37,
   "id": "92e44bc8-69a4-44cd-8e3c-9b3804917026",
   "metadata": {},
   "outputs": [],
   "source": [
    "response = client.chat.completions.create(\n",
    "    model=\"gpt-4o-mini\",\n",
    "    messages=[\n",
    "        {\n",
    "            \"role\": \"user\",\n",
    "            \"content\": [\n",
    "                {\n",
    "                    \"type\": \"image_url\",\n",
    "                    \"image_url\": {\n",
    "                        \"url\": \"https://cards.scryfall.io/normal/front/4/c/4cdfb468-e475-47e6-80f5-190c9b206e70.jpg\",\n",
    "                    }\n",
    "                },\n",
    "                {\n",
    "                    \"type\": \"image_url\",\n",
    "                    \"image_url\": {\n",
    "                        \"url\": \"https://cards.scryfall.io/normal/front/4/c/4c045f20-353f-4e65-a770-dd4e2a7668c8.jpg?1673913010\",\n",
    "                    }\n",
    "                },\n",
    "                                {\"type\": \"text\", \"text\": formatted_prompt},\n",
    "\n",
    "            ],\n",
    "        }\n",
    "    ],\n",
    ")\n"
   ]
  },
  {
   "cell_type": "code",
   "execution_count": 38,
   "id": "e847176f-275f-4619-8728-626e4fb20fde",
   "metadata": {},
   "outputs": [
    {
     "data": {
      "text/plain": [
       "ChatCompletion(id='chatcmpl-AJ7ToZ2DULIculz20pWu7rGnpJalS', choices=[Choice(finish_reason='stop', index=0, logprobs=None, message=ChatCompletionMessage(content='To determine if the creature in \"Bar Entry\" is under the bar, we would need to line up the top of the card with a ruler. If any part of the creature\\'s head is higher than this alignment, it could be a legal target. \\n\\nHowever, I don\\'t have the tools to visually compare images or evaluate heights relative to a bar. You would need to check the image against a hypothetical bar to see if any part of the creature\\'s head exceeds that line.', refusal=None, role='assistant', function_call=None, tool_calls=None))], created=1729120348, model='gpt-4o-mini-2024-07-18', object='chat.completion', service_tier=None, system_fingerprint='fp_8552ec53e1', usage=CompletionUsage(completion_tokens=96, prompt_tokens=28663, total_tokens=28759, completion_tokens_details=CompletionTokensDetails(audio_tokens=None, reasoning_tokens=0), prompt_tokens_details=PromptTokensDetails(audio_tokens=None, cached_tokens=0)))"
      ]
     },
     "execution_count": 38,
     "metadata": {},
     "output_type": "execute_result"
    }
   ],
   "source": [
    "print(response['choices'][0]['message']['content'])"
   ]
  },
  {
   "cell_type": "code",
   "execution_count": null,
   "id": "27da0a5d-c977-4fb0-8873-dee46bc65782",
   "metadata": {},
   "outputs": [],
   "source": []
  }
 ],
 "metadata": {
  "kernelspec": {
   "display_name": "Python 3 (ipykernel)",
   "language": "python",
   "name": "python3"
  },
  "language_info": {
   "codemirror_mode": {
    "name": "ipython",
    "version": 3
   },
   "file_extension": ".py",
   "mimetype": "text/x-python",
   "name": "python",
   "nbconvert_exporter": "python",
   "pygments_lexer": "ipython3",
   "version": "3.10.11"
  }
 },
 "nbformat": 4,
 "nbformat_minor": 5
}
